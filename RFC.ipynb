{
 "cells": [
  {
   "cell_type": "code",
   "execution_count": 1,
   "metadata": {
    "pycharm": {
     "name": "#%%\n"
    }
   },
   "outputs": [],
   "source": [
    "# Importing dependencies\n",
    "import numpy as np\n",
    "import pandas as pd\n",
    "import matplotlib.pyplot as plt\n",
    "import seaborn as sns\n",
    "\n",
    "from sklearn.model_selection import train_test_split\n",
    "from sklearn.preprocessing import StandardScaler\n",
    "from sklearn.ensemble import RandomForestClassifier\n",
    "from sklearn import metrics\n",
    "from sklearn.metrics import confusion_matrix\n",
    "from sklearn.metrics import classification_report\n",
    "\n",
    "from sqlalchemy import create_engine\n",
    "from password import password"
   ]
  },
  {
   "cell_type": "code",
   "execution_count": 2,
   "metadata": {
    "pycharm": {
     "name": "#%%\n"
    }
   },
   "outputs": [],
   "source": [
    "protocol = 'postgresql'\n",
    "username = 'postgres'\n",
    "password = password\n",
    "host = 'localhost'\n",
    "port = 5432\n",
    "database_name = 'churn_pred'\n",
    "rds_connection_string = f'{protocol}://{username}:{password}@{host}:{port}/{database_name}'\n",
    "engine = create_engine(rds_connection_string)\n",
    "connection = engine.connect()"
   ]
  },
  {
   "cell_type": "code",
   "execution_count": 43,
   "metadata": {
    "pycharm": {
     "name": "#%%\n"
    }
   },
   "outputs": [
    {
     "data": {
      "text/html": [
       "<div>\n",
       "<style scoped>\n",
       "    .dataframe tbody tr th:only-of-type {\n",
       "        vertical-align: middle;\n",
       "    }\n",
       "\n",
       "    .dataframe tbody tr th {\n",
       "        vertical-align: top;\n",
       "    }\n",
       "\n",
       "    .dataframe thead th {\n",
       "        text-align: right;\n",
       "    }\n",
       "</style>\n",
       "<table border=\"1\" class=\"dataframe\">\n",
       "  <thead>\n",
       "    <tr style=\"text-align: right;\">\n",
       "      <th></th>\n",
       "      <th>account_length</th>\n",
       "      <th>number_vmail_messages</th>\n",
       "      <th>total_day_minutes</th>\n",
       "      <th>total_day_calls</th>\n",
       "      <th>total_day_charge</th>\n",
       "      <th>total_eve_minutes</th>\n",
       "      <th>total_eve_calls</th>\n",
       "      <th>total_eve_charge</th>\n",
       "      <th>total_night_minutes</th>\n",
       "      <th>total_night_calls</th>\n",
       "      <th>total_night_charge</th>\n",
       "      <th>total_intl_minutes</th>\n",
       "      <th>total_intl_calls</th>\n",
       "      <th>total_intl_charge</th>\n",
       "      <th>number_customer_service_calls</th>\n",
       "      <th>churn</th>\n",
       "      <th>international_plan_yes</th>\n",
       "      <th>voice_mail_plan_yes</th>\n",
       "    </tr>\n",
       "  </thead>\n",
       "  <tbody>\n",
       "    <tr>\n",
       "      <th>0</th>\n",
       "      <td>128</td>\n",
       "      <td>25</td>\n",
       "      <td>265.1</td>\n",
       "      <td>110</td>\n",
       "      <td>45.07</td>\n",
       "      <td>197.4</td>\n",
       "      <td>99</td>\n",
       "      <td>16.78</td>\n",
       "      <td>244.7</td>\n",
       "      <td>91</td>\n",
       "      <td>11.01</td>\n",
       "      <td>10.0</td>\n",
       "      <td>3</td>\n",
       "      <td>2.70</td>\n",
       "      <td>1</td>\n",
       "      <td>1</td>\n",
       "      <td>0</td>\n",
       "      <td>1</td>\n",
       "    </tr>\n",
       "    <tr>\n",
       "      <th>1</th>\n",
       "      <td>118</td>\n",
       "      <td>0</td>\n",
       "      <td>223.4</td>\n",
       "      <td>98</td>\n",
       "      <td>37.98</td>\n",
       "      <td>220.6</td>\n",
       "      <td>101</td>\n",
       "      <td>18.75</td>\n",
       "      <td>203.9</td>\n",
       "      <td>118</td>\n",
       "      <td>9.18</td>\n",
       "      <td>6.3</td>\n",
       "      <td>6</td>\n",
       "      <td>1.70</td>\n",
       "      <td>0</td>\n",
       "      <td>0</td>\n",
       "      <td>1</td>\n",
       "      <td>0</td>\n",
       "    </tr>\n",
       "    <tr>\n",
       "      <th>2</th>\n",
       "      <td>62</td>\n",
       "      <td>0</td>\n",
       "      <td>120.7</td>\n",
       "      <td>70</td>\n",
       "      <td>20.52</td>\n",
       "      <td>307.2</td>\n",
       "      <td>76</td>\n",
       "      <td>26.11</td>\n",
       "      <td>203.0</td>\n",
       "      <td>99</td>\n",
       "      <td>9.14</td>\n",
       "      <td>13.1</td>\n",
       "      <td>6</td>\n",
       "      <td>3.54</td>\n",
       "      <td>4</td>\n",
       "      <td>0</td>\n",
       "      <td>0</td>\n",
       "      <td>0</td>\n",
       "    </tr>\n",
       "    <tr>\n",
       "      <th>3</th>\n",
       "      <td>93</td>\n",
       "      <td>0</td>\n",
       "      <td>190.7</td>\n",
       "      <td>114</td>\n",
       "      <td>32.42</td>\n",
       "      <td>218.2</td>\n",
       "      <td>111</td>\n",
       "      <td>18.55</td>\n",
       "      <td>129.6</td>\n",
       "      <td>121</td>\n",
       "      <td>5.83</td>\n",
       "      <td>8.1</td>\n",
       "      <td>3</td>\n",
       "      <td>2.19</td>\n",
       "      <td>3</td>\n",
       "      <td>1</td>\n",
       "      <td>0</td>\n",
       "      <td>0</td>\n",
       "    </tr>\n",
       "    <tr>\n",
       "      <th>4</th>\n",
       "      <td>174</td>\n",
       "      <td>0</td>\n",
       "      <td>124.3</td>\n",
       "      <td>76</td>\n",
       "      <td>21.13</td>\n",
       "      <td>277.1</td>\n",
       "      <td>112</td>\n",
       "      <td>23.55</td>\n",
       "      <td>250.7</td>\n",
       "      <td>115</td>\n",
       "      <td>11.28</td>\n",
       "      <td>15.5</td>\n",
       "      <td>5</td>\n",
       "      <td>4.19</td>\n",
       "      <td>3</td>\n",
       "      <td>1</td>\n",
       "      <td>0</td>\n",
       "      <td>0</td>\n",
       "    </tr>\n",
       "  </tbody>\n",
       "</table>\n",
       "</div>"
      ],
      "text/plain": [
       "   account_length  number_vmail_messages  total_day_minutes  total_day_calls  \\\n",
       "0             128                     25              265.1              110   \n",
       "1             118                      0              223.4               98   \n",
       "2              62                      0              120.7               70   \n",
       "3              93                      0              190.7              114   \n",
       "4             174                      0              124.3               76   \n",
       "\n",
       "   total_day_charge  total_eve_minutes  total_eve_calls  total_eve_charge  \\\n",
       "0             45.07              197.4               99             16.78   \n",
       "1             37.98              220.6              101             18.75   \n",
       "2             20.52              307.2               76             26.11   \n",
       "3             32.42              218.2              111             18.55   \n",
       "4             21.13              277.1              112             23.55   \n",
       "\n",
       "   total_night_minutes  total_night_calls  total_night_charge  \\\n",
       "0                244.7                 91               11.01   \n",
       "1                203.9                118                9.18   \n",
       "2                203.0                 99                9.14   \n",
       "3                129.6                121                5.83   \n",
       "4                250.7                115               11.28   \n",
       "\n",
       "   total_intl_minutes  total_intl_calls  total_intl_charge  \\\n",
       "0                10.0                 3               2.70   \n",
       "1                 6.3                 6               1.70   \n",
       "2                13.1                 6               3.54   \n",
       "3                 8.1                 3               2.19   \n",
       "4                15.5                 5               4.19   \n",
       "\n",
       "   number_customer_service_calls  churn  international_plan_yes  \\\n",
       "0                              1      1                       0   \n",
       "1                              0      0                       1   \n",
       "2                              4      0                       0   \n",
       "3                              3      1                       0   \n",
       "4                              3      1                       0   \n",
       "\n",
       "   voice_mail_plan_yes  \n",
       "0                    1  \n",
       "1                    0  \n",
       "2                    0  \n",
       "3                    0  \n",
       "4                    0  "
      ]
     },
     "execution_count": 43,
     "metadata": {},
     "output_type": "execute_result"
    }
   ],
   "source": [
    "# Loading and displaying a dataset\n",
    "df = pd.read_sql(\"SELECT * FROM fact_churn\", connection)\n",
    "df.head()"
   ]
  },
  {
   "cell_type": "code",
   "execution_count": 44,
   "metadata": {
    "pycharm": {
     "name": "#%%\n"
    }
   },
   "outputs": [],
   "source": [
    "# Split the data into X_train, X_test, y_train, y_test\n",
    "X = df.drop(['churn'], axis=1)\n",
    "y = df['churn'].values\n",
    "\n",
    "X_train, X_test, y_train, y_test = train_test_split(X, y, random_state=42, test_size = 0.25)\n",
    "\n",
    "scaler = StandardScaler().fit(X_train)\n",
    "X_train_scaled = scaler.transform(X_train)\n",
    "X_test_scaled = scaler.transform(X_test)"
   ]
  },
  {
   "cell_type": "code",
   "execution_count": 45,
   "metadata": {
    "pycharm": {
     "name": "#%%\n"
    }
   },
   "outputs": [
    {
     "data": {
      "text/plain": [
       "(3750, 17)"
      ]
     },
     "execution_count": 45,
     "metadata": {},
     "output_type": "execute_result"
    }
   ],
   "source": [
    "# Checking data split in training\n",
    "X_train.shape"
   ]
  },
  {
   "cell_type": "code",
   "execution_count": 46,
   "metadata": {
    "pycharm": {
     "name": "#%%\n"
    }
   },
   "outputs": [
    {
     "data": {
      "text/plain": [
       "(1250, 17)"
      ]
     },
     "execution_count": 46,
     "metadata": {},
     "output_type": "execute_result"
    }
   ],
   "source": [
    "# Checking data split in testing\n",
    "X_test.shape"
   ]
  },
  {
   "cell_type": "code",
   "execution_count": 47,
   "metadata": {
    "pycharm": {
     "name": "#%%\n"
    }
   },
   "outputs": [
    {
     "data": {
      "text/html": [
       "<div>\n",
       "<style scoped>\n",
       "    .dataframe tbody tr th:only-of-type {\n",
       "        vertical-align: middle;\n",
       "    }\n",
       "\n",
       "    .dataframe tbody tr th {\n",
       "        vertical-align: top;\n",
       "    }\n",
       "\n",
       "    .dataframe thead th {\n",
       "        text-align: right;\n",
       "    }\n",
       "</style>\n",
       "<table border=\"1\" class=\"dataframe\">\n",
       "  <thead>\n",
       "    <tr style=\"text-align: right;\">\n",
       "      <th></th>\n",
       "      <th>account_length</th>\n",
       "      <th>number_vmail_messages</th>\n",
       "      <th>total_day_minutes</th>\n",
       "      <th>total_day_calls</th>\n",
       "      <th>total_day_charge</th>\n",
       "      <th>total_eve_minutes</th>\n",
       "      <th>total_eve_calls</th>\n",
       "      <th>total_eve_charge</th>\n",
       "      <th>total_night_minutes</th>\n",
       "      <th>total_night_calls</th>\n",
       "      <th>total_night_charge</th>\n",
       "      <th>total_intl_minutes</th>\n",
       "      <th>total_intl_calls</th>\n",
       "      <th>total_intl_charge</th>\n",
       "      <th>number_customer_service_calls</th>\n",
       "      <th>international_plan_yes</th>\n",
       "      <th>voice_mail_plan_yes</th>\n",
       "    </tr>\n",
       "  </thead>\n",
       "  <tbody>\n",
       "    <tr>\n",
       "      <th>2590</th>\n",
       "      <td>136</td>\n",
       "      <td>35</td>\n",
       "      <td>205.5</td>\n",
       "      <td>86</td>\n",
       "      <td>34.94</td>\n",
       "      <td>298.5</td>\n",
       "      <td>119</td>\n",
       "      <td>25.37</td>\n",
       "      <td>214.2</td>\n",
       "      <td>104</td>\n",
       "      <td>9.64</td>\n",
       "      <td>6.9</td>\n",
       "      <td>4</td>\n",
       "      <td>1.86</td>\n",
       "      <td>1</td>\n",
       "      <td>0</td>\n",
       "      <td>1</td>\n",
       "    </tr>\n",
       "    <tr>\n",
       "      <th>1521</th>\n",
       "      <td>1</td>\n",
       "      <td>0</td>\n",
       "      <td>144.8</td>\n",
       "      <td>107</td>\n",
       "      <td>24.62</td>\n",
       "      <td>112.5</td>\n",
       "      <td>66</td>\n",
       "      <td>9.56</td>\n",
       "      <td>218.7</td>\n",
       "      <td>79</td>\n",
       "      <td>9.84</td>\n",
       "      <td>13.8</td>\n",
       "      <td>3</td>\n",
       "      <td>3.73</td>\n",
       "      <td>1</td>\n",
       "      <td>0</td>\n",
       "      <td>0</td>\n",
       "    </tr>\n",
       "    <tr>\n",
       "      <th>1281</th>\n",
       "      <td>88</td>\n",
       "      <td>0</td>\n",
       "      <td>161.5</td>\n",
       "      <td>92</td>\n",
       "      <td>27.46</td>\n",
       "      <td>173.5</td>\n",
       "      <td>108</td>\n",
       "      <td>14.75</td>\n",
       "      <td>206.2</td>\n",
       "      <td>95</td>\n",
       "      <td>9.28</td>\n",
       "      <td>7.9</td>\n",
       "      <td>4</td>\n",
       "      <td>2.13</td>\n",
       "      <td>2</td>\n",
       "      <td>0</td>\n",
       "      <td>0</td>\n",
       "    </tr>\n",
       "    <tr>\n",
       "      <th>383</th>\n",
       "      <td>67</td>\n",
       "      <td>0</td>\n",
       "      <td>260.4</td>\n",
       "      <td>107</td>\n",
       "      <td>44.27</td>\n",
       "      <td>208.2</td>\n",
       "      <td>104</td>\n",
       "      <td>17.70</td>\n",
       "      <td>207.9</td>\n",
       "      <td>115</td>\n",
       "      <td>9.36</td>\n",
       "      <td>10.0</td>\n",
       "      <td>2</td>\n",
       "      <td>2.70</td>\n",
       "      <td>6</td>\n",
       "      <td>0</td>\n",
       "      <td>0</td>\n",
       "    </tr>\n",
       "    <tr>\n",
       "      <th>1111</th>\n",
       "      <td>61</td>\n",
       "      <td>31</td>\n",
       "      <td>288.7</td>\n",
       "      <td>101</td>\n",
       "      <td>49.08</td>\n",
       "      <td>203.8</td>\n",
       "      <td>102</td>\n",
       "      <td>17.32</td>\n",
       "      <td>203.2</td>\n",
       "      <td>49</td>\n",
       "      <td>9.14</td>\n",
       "      <td>8.6</td>\n",
       "      <td>3</td>\n",
       "      <td>2.32</td>\n",
       "      <td>0</td>\n",
       "      <td>0</td>\n",
       "      <td>1</td>\n",
       "    </tr>\n",
       "  </tbody>\n",
       "</table>\n",
       "</div>"
      ],
      "text/plain": [
       "      account_length  number_vmail_messages  total_day_minutes  \\\n",
       "2590             136                     35              205.5   \n",
       "1521               1                      0              144.8   \n",
       "1281              88                      0              161.5   \n",
       "383               67                      0              260.4   \n",
       "1111              61                     31              288.7   \n",
       "\n",
       "      total_day_calls  total_day_charge  total_eve_minutes  total_eve_calls  \\\n",
       "2590               86             34.94              298.5              119   \n",
       "1521              107             24.62              112.5               66   \n",
       "1281               92             27.46              173.5              108   \n",
       "383               107             44.27              208.2              104   \n",
       "1111              101             49.08              203.8              102   \n",
       "\n",
       "      total_eve_charge  total_night_minutes  total_night_calls  \\\n",
       "2590             25.37                214.2                104   \n",
       "1521              9.56                218.7                 79   \n",
       "1281             14.75                206.2                 95   \n",
       "383              17.70                207.9                115   \n",
       "1111             17.32                203.2                 49   \n",
       "\n",
       "      total_night_charge  total_intl_minutes  total_intl_calls  \\\n",
       "2590                9.64                 6.9                 4   \n",
       "1521                9.84                13.8                 3   \n",
       "1281                9.28                 7.9                 4   \n",
       "383                 9.36                10.0                 2   \n",
       "1111                9.14                 8.6                 3   \n",
       "\n",
       "      total_intl_charge  number_customer_service_calls  \\\n",
       "2590               1.86                              1   \n",
       "1521               3.73                              1   \n",
       "1281               2.13                              2   \n",
       "383                2.70                              6   \n",
       "1111               2.32                              0   \n",
       "\n",
       "      international_plan_yes  voice_mail_plan_yes  \n",
       "2590                       0                    1  \n",
       "1521                       0                    0  \n",
       "1281                       0                    0  \n",
       "383                        0                    0  \n",
       "1111                       0                    1  "
      ]
     },
     "execution_count": 47,
     "metadata": {},
     "output_type": "execute_result"
    }
   ],
   "source": [
    "# Retrieving sample of the data\n",
    "X.sample(5)"
   ]
  },
  {
   "cell_type": "code",
   "execution_count": 48,
   "metadata": {},
   "outputs": [],
   "source": [
    "# Testing Hyper-parameters\n",
    "# Number of trees in random forest\n",
    "n_estimators = np.linspace(100, 3000, int((3000-100)/200) + 1, dtype=int)\n",
    "# Number of features to consider at every split\n",
    "max_features = ['auto', 'sqrt']\n",
    "# Maximum number of levels in tree\n",
    "max_depth = [1, 5, 10, 20, 50, 75, 100, 150, 200]\n",
    "# Minimum number of samples required to split a node\n",
    "# min_samples_split = [int(x) for x in np.linspace(start = 2, stop = 10, num = 9)]\n",
    "min_samples_split = [1, 2, 5, 10, 15, 20, 30]\n",
    "# Minimum number of samples required at each leaf node\n",
    "min_samples_leaf = [1, 2, 3, 4]\n",
    "# Method of selecting samples for training each tree\n",
    "bootstrap = [True, False]\n",
    "# Criterion\n",
    "criterion=['gini', 'entropy']\n",
    "random_grid = {'n_estimators': n_estimators,\n",
    "               'max_features': max_features,\n",
    "               'max_depth': max_depth,\n",
    "               'min_samples_split': min_samples_split,\n",
    "               'min_samples_leaf': min_samples_leaf,\n",
    "               'bootstrap': bootstrap,\n",
    "               'criterion': criterion}"
   ]
  },
  {
   "cell_type": "code",
   "execution_count": 49,
   "metadata": {},
   "outputs": [
    {
     "name": "stdout",
     "output_type": "stream",
     "text": [
      "Fitting 5 folds for each of 30 candidates, totalling 150 fits\n",
      "[CV] END bootstrap=False, criterion=entropy, max_depth=5, max_features=auto, min_samples_leaf=2, min_samples_split=2, n_estimators=3000; total time=  17.9s\n",
      "[CV] END bootstrap=False, criterion=entropy, max_depth=5, max_features=auto, min_samples_leaf=2, min_samples_split=2, n_estimators=3000; total time=  18.0s\n",
      "[CV] END bootstrap=False, criterion=entropy, max_depth=5, max_features=auto, min_samples_leaf=2, min_samples_split=2, n_estimators=3000; total time=  18.1s\n",
      "[CV] END bootstrap=False, criterion=entropy, max_depth=5, max_features=auto, min_samples_leaf=2, min_samples_split=2, n_estimators=3000; total time=  18.1s\n",
      "[CV] END bootstrap=False, criterion=gini, max_depth=1, max_features=sqrt, min_samples_leaf=3, min_samples_split=10, n_estimators=100; total time=   0.2s\n",
      "[CV] END bootstrap=False, criterion=gini, max_depth=1, max_features=sqrt, min_samples_leaf=3, min_samples_split=10, n_estimators=100; total time=   0.2s\n",
      "[CV] END bootstrap=False, criterion=gini, max_depth=1, max_features=sqrt, min_samples_leaf=3, min_samples_split=10, n_estimators=100; total time=   0.2s\n",
      "[CV] END bootstrap=False, criterion=gini, max_depth=1, max_features=sqrt, min_samples_leaf=3, min_samples_split=10, n_estimators=100; total time=   0.2s\n",
      "[CV] END bootstrap=False, criterion=gini, max_depth=1, max_features=sqrt, min_samples_leaf=3, min_samples_split=10, n_estimators=100; total time=   0.2s\n",
      "[CV] END bootstrap=True, criterion=gini, max_depth=5, max_features=auto, min_samples_leaf=1, min_samples_split=2, n_estimators=1135; total time=   4.8s\n",
      "[CV] END bootstrap=True, criterion=gini, max_depth=5, max_features=auto, min_samples_leaf=1, min_samples_split=2, n_estimators=1135; total time=   4.8s\n",
      "[CV] END bootstrap=True, criterion=gini, max_depth=5, max_features=auto, min_samples_leaf=1, min_samples_split=2, n_estimators=1135; total time=   4.8s\n",
      "[CV] END bootstrap=True, criterion=gini, max_depth=5, max_features=auto, min_samples_leaf=1, min_samples_split=2, n_estimators=1135; total time=   4.8s\n",
      "[CV] END bootstrap=True, criterion=gini, max_depth=5, max_features=auto, min_samples_leaf=1, min_samples_split=2, n_estimators=1135; total time=   4.8s\n",
      "[CV] END bootstrap=True, criterion=gini, max_depth=100, max_features=auto, min_samples_leaf=4, min_samples_split=5, n_estimators=1135; total time=   8.8s\n",
      "[CV] END bootstrap=False, criterion=entropy, max_depth=5, max_features=auto, min_samples_leaf=2, min_samples_split=2, n_estimators=3000; total time=  18.0s\n",
      "[CV] END bootstrap=True, criterion=gini, max_depth=100, max_features=auto, min_samples_leaf=4, min_samples_split=5, n_estimators=1135; total time=   8.8s\n",
      "[CV] END bootstrap=True, criterion=gini, max_depth=100, max_features=auto, min_samples_leaf=4, min_samples_split=5, n_estimators=1135; total time=   8.8s\n",
      "[CV] END bootstrap=True, criterion=gini, max_depth=100, max_features=auto, min_samples_leaf=4, min_samples_split=5, n_estimators=1135; total time=   9.0s\n",
      "[CV] END bootstrap=True, criterion=gini, max_depth=100, max_features=auto, min_samples_leaf=4, min_samples_split=5, n_estimators=1135; total time=   9.0s\n",
      "[CV] END bootstrap=False, criterion=entropy, max_depth=200, max_features=auto, min_samples_leaf=4, min_samples_split=20, n_estimators=2585; total time=  34.4s\n",
      "[CV] END bootstrap=False, criterion=entropy, max_depth=200, max_features=auto, min_samples_leaf=4, min_samples_split=20, n_estimators=2585; total time=  37.3s\n",
      "[CV] END bootstrap=False, criterion=entropy, max_depth=200, max_features=auto, min_samples_leaf=4, min_samples_split=20, n_estimators=2585; total time=  34.9s\n",
      "[CV] END bootstrap=False, criterion=entropy, max_depth=200, max_features=auto, min_samples_leaf=4, min_samples_split=20, n_estimators=2585; total time=  35.8s\n",
      "[CV] END bootstrap=False, criterion=gini, max_depth=150, max_features=sqrt, min_samples_leaf=2, min_samples_split=10, n_estimators=1135; total time=  14.1s\n",
      "[CV] END bootstrap=False, criterion=gini, max_depth=150, max_features=sqrt, min_samples_leaf=2, min_samples_split=10, n_estimators=1135; total time=  13.3s\n",
      "[CV] END bootstrap=False, criterion=gini, max_depth=150, max_features=sqrt, min_samples_leaf=2, min_samples_split=10, n_estimators=1135; total time=  13.7s\n",
      "[CV] END bootstrap=False, criterion=gini, max_depth=150, max_features=sqrt, min_samples_leaf=2, min_samples_split=10, n_estimators=1135; total time=  14.0s\n",
      "[CV] END bootstrap=False, criterion=gini, max_depth=150, max_features=sqrt, min_samples_leaf=2, min_samples_split=10, n_estimators=1135; total time=  14.4s\n",
      "[CV] END bootstrap=False, criterion=entropy, max_depth=200, max_features=auto, min_samples_leaf=4, min_samples_split=20, n_estimators=2585; total time=  37.3s\n",
      "[CV] END bootstrap=True, criterion=entropy, max_depth=75, max_features=auto, min_samples_leaf=2, min_samples_split=30, n_estimators=1964; total time=  17.5s\n",
      "[CV] END bootstrap=True, criterion=entropy, max_depth=75, max_features=auto, min_samples_leaf=2, min_samples_split=30, n_estimators=1964; total time=  17.1s\n",
      "[CV] END bootstrap=True, criterion=entropy, max_depth=75, max_features=auto, min_samples_leaf=2, min_samples_split=30, n_estimators=1964; total time=  17.1s\n",
      "[CV] END bootstrap=True, criterion=entropy, max_depth=75, max_features=auto, min_samples_leaf=2, min_samples_split=30, n_estimators=1964; total time=  17.5s\n",
      "[CV] END bootstrap=True, criterion=entropy, max_depth=50, max_features=auto, min_samples_leaf=4, min_samples_split=10, n_estimators=928; total time=   8.4s\n",
      "[CV] END bootstrap=True, criterion=entropy, max_depth=50, max_features=auto, min_samples_leaf=4, min_samples_split=10, n_estimators=928; total time=   8.2s\n",
      "[CV] END bootstrap=True, criterion=entropy, max_depth=75, max_features=auto, min_samples_leaf=2, min_samples_split=30, n_estimators=1964; total time=  17.6s\n",
      "[CV] END bootstrap=True, criterion=entropy, max_depth=50, max_features=auto, min_samples_leaf=4, min_samples_split=10, n_estimators=928; total time=   8.2s\n",
      "[CV] END bootstrap=True, criterion=entropy, max_depth=50, max_features=auto, min_samples_leaf=4, min_samples_split=10, n_estimators=928; total time=   8.4s\n",
      "[CV] END bootstrap=True, criterion=entropy, max_depth=50, max_features=auto, min_samples_leaf=4, min_samples_split=10, n_estimators=928; total time=   8.4s\n",
      "[CV] END bootstrap=False, criterion=gini, max_depth=200, max_features=auto, min_samples_leaf=3, min_samples_split=15, n_estimators=1757; total time=  21.0s\n",
      "[CV] END bootstrap=False, criterion=gini, max_depth=200, max_features=auto, min_samples_leaf=3, min_samples_split=15, n_estimators=1757; total time=  19.8s\n",
      "[CV] END bootstrap=False, criterion=gini, max_depth=200, max_features=auto, min_samples_leaf=3, min_samples_split=15, n_estimators=1757; total time=  20.3s\n",
      "[CV] END bootstrap=False, criterion=gini, max_depth=200, max_features=auto, min_samples_leaf=3, min_samples_split=15, n_estimators=1757; total time=  20.9s\n",
      "[CV] END bootstrap=True, criterion=gini, max_depth=150, max_features=auto, min_samples_leaf=4, min_samples_split=15, n_estimators=2171; total time=  16.6s\n",
      "[CV] END bootstrap=False, criterion=gini, max_depth=200, max_features=auto, min_samples_leaf=3, min_samples_split=15, n_estimators=1757; total time=  21.4s\n",
      "[CV] END bootstrap=True, criterion=gini, max_depth=150, max_features=auto, min_samples_leaf=4, min_samples_split=15, n_estimators=2171; total time=  16.4s\n",
      "[CV] END bootstrap=True, criterion=gini, max_depth=150, max_features=auto, min_samples_leaf=4, min_samples_split=15, n_estimators=2171; total time=  16.5s\n",
      "[CV] END bootstrap=False, criterion=gini, max_depth=10, max_features=auto, min_samples_leaf=1, min_samples_split=10, n_estimators=1135; total time=  10.0s\n",
      "[CV] END bootstrap=False, criterion=gini, max_depth=10, max_features=auto, min_samples_leaf=1, min_samples_split=10, n_estimators=1135; total time=  10.1s\n",
      "[CV] END bootstrap=True, criterion=gini, max_depth=150, max_features=auto, min_samples_leaf=4, min_samples_split=15, n_estimators=2171; total time=  16.8s\n",
      "[CV] END bootstrap=True, criterion=gini, max_depth=150, max_features=auto, min_samples_leaf=4, min_samples_split=15, n_estimators=2171; total time=  17.0s\n",
      "[CV] END bootstrap=False, criterion=entropy, max_depth=200, max_features=sqrt, min_samples_leaf=1, min_samples_split=30, n_estimators=100; total time=   1.5s\n",
      "[CV] END bootstrap=False, criterion=entropy, max_depth=200, max_features=sqrt, min_samples_leaf=1, min_samples_split=30, n_estimators=100; total time=   1.4s\n",
      "[CV] END bootstrap=False, criterion=gini, max_depth=10, max_features=auto, min_samples_leaf=1, min_samples_split=10, n_estimators=1135; total time=  10.0s\n",
      "[CV] END bootstrap=False, criterion=entropy, max_depth=200, max_features=sqrt, min_samples_leaf=1, min_samples_split=30, n_estimators=100; total time=   1.4s\n",
      "[CV] END bootstrap=False, criterion=entropy, max_depth=200, max_features=sqrt, min_samples_leaf=1, min_samples_split=30, n_estimators=100; total time=   1.4s\n",
      "[CV] END bootstrap=False, criterion=entropy, max_depth=200, max_features=sqrt, min_samples_leaf=1, min_samples_split=30, n_estimators=100; total time=   1.5s\n",
      "[CV] END bootstrap=False, criterion=gini, max_depth=10, max_features=auto, min_samples_leaf=1, min_samples_split=10, n_estimators=1135; total time=  10.0s\n",
      "[CV] END bootstrap=True, criterion=gini, max_depth=75, max_features=auto, min_samples_leaf=3, min_samples_split=2, n_estimators=307; total time=   2.5s\n",
      "[CV] END bootstrap=True, criterion=gini, max_depth=75, max_features=auto, min_samples_leaf=3, min_samples_split=2, n_estimators=307; total time=   2.4s\n",
      "[CV] END bootstrap=True, criterion=gini, max_depth=75, max_features=auto, min_samples_leaf=3, min_samples_split=2, n_estimators=307; total time=   2.4s\n",
      "[CV] END bootstrap=False, criterion=gini, max_depth=10, max_features=auto, min_samples_leaf=1, min_samples_split=10, n_estimators=1135; total time=  10.0s\n",
      "[CV] END bootstrap=True, criterion=gini, max_depth=75, max_features=auto, min_samples_leaf=3, min_samples_split=2, n_estimators=307; total time=   2.5s\n",
      "[CV] END bootstrap=True, criterion=gini, max_depth=75, max_features=auto, min_samples_leaf=3, min_samples_split=2, n_estimators=307; total time=   2.5s\n",
      "[CV] END bootstrap=False, criterion=gini, max_depth=200, max_features=auto, min_samples_leaf=2, min_samples_split=2, n_estimators=514; total time=   6.3s\n",
      "[CV] END bootstrap=False, criterion=gini, max_depth=200, max_features=auto, min_samples_leaf=2, min_samples_split=2, n_estimators=514; total time=   6.7s\n",
      "[CV] END bootstrap=False, criterion=gini, max_depth=200, max_features=auto, min_samples_leaf=2, min_samples_split=2, n_estimators=514; total time=   6.5s\n",
      "[CV] END bootstrap=False, criterion=gini, max_depth=200, max_features=auto, min_samples_leaf=2, min_samples_split=2, n_estimators=514; total time=   6.7s\n",
      "[CV] END bootstrap=False, criterion=gini, max_depth=200, max_features=auto, min_samples_leaf=2, min_samples_split=2, n_estimators=514; total time=   6.8s\n",
      "[CV] END bootstrap=True, criterion=entropy, max_depth=200, max_features=auto, min_samples_leaf=2, min_samples_split=5, n_estimators=1757; total time=  17.0s\n",
      "[CV] END bootstrap=True, criterion=entropy, max_depth=200, max_features=auto, min_samples_leaf=2, min_samples_split=5, n_estimators=1757; total time=  16.7s\n",
      "[CV] END bootstrap=True, criterion=entropy, max_depth=200, max_features=auto, min_samples_leaf=2, min_samples_split=5, n_estimators=1757; total time=  16.5s\n",
      "[CV] END bootstrap=False, criterion=entropy, max_depth=100, max_features=auto, min_samples_leaf=3, min_samples_split=30, n_estimators=100; total time=   1.5s\n",
      "[CV] END bootstrap=False, criterion=entropy, max_depth=100, max_features=auto, min_samples_leaf=3, min_samples_split=30, n_estimators=100; total time=   1.3s\n",
      "[CV] END bootstrap=False, criterion=entropy, max_depth=100, max_features=auto, min_samples_leaf=3, min_samples_split=30, n_estimators=100; total time=   1.4s\n",
      "[CV] END bootstrap=False, criterion=entropy, max_depth=100, max_features=auto, min_samples_leaf=3, min_samples_split=30, n_estimators=100; total time=   1.4s\n",
      "[CV] END bootstrap=False, criterion=entropy, max_depth=100, max_features=auto, min_samples_leaf=3, min_samples_split=30, n_estimators=100; total time=   1.4s\n",
      "[CV] END bootstrap=True, criterion=entropy, max_depth=200, max_features=auto, min_samples_leaf=2, min_samples_split=5, n_estimators=1757; total time=  17.0s\n",
      "[CV] END bootstrap=True, criterion=entropy, max_depth=200, max_features=auto, min_samples_leaf=2, min_samples_split=5, n_estimators=1757; total time=  17.0s\n",
      "[CV] END bootstrap=True, criterion=entropy, max_depth=50, max_features=sqrt, min_samples_leaf=1, min_samples_split=2, n_estimators=1757; total time=  17.7s\n",
      "[CV] END bootstrap=True, criterion=entropy, max_depth=50, max_features=sqrt, min_samples_leaf=1, min_samples_split=2, n_estimators=1757; total time=  17.4s\n",
      "[CV] END bootstrap=True, criterion=entropy, max_depth=50, max_features=sqrt, min_samples_leaf=1, min_samples_split=2, n_estimators=1757; total time=  17.3s\n",
      "[CV] END bootstrap=False, criterion=entropy, max_depth=75, max_features=sqrt, min_samples_leaf=2, min_samples_split=30, n_estimators=100; total time=   1.5s\n",
      "[CV] END bootstrap=False, criterion=entropy, max_depth=75, max_features=sqrt, min_samples_leaf=2, min_samples_split=30, n_estimators=100; total time=   1.4s\n",
      "[CV] END bootstrap=False, criterion=entropy, max_depth=75, max_features=sqrt, min_samples_leaf=2, min_samples_split=30, n_estimators=100; total time=   1.4s\n",
      "[CV] END bootstrap=False, criterion=entropy, max_depth=75, max_features=sqrt, min_samples_leaf=2, min_samples_split=30, n_estimators=100; total time=   1.4s\n",
      "[CV] END bootstrap=False, criterion=entropy, max_depth=75, max_features=sqrt, min_samples_leaf=2, min_samples_split=30, n_estimators=100; total time=   1.5s\n",
      "[CV] END bootstrap=False, criterion=gini, max_depth=5, max_features=auto, min_samples_leaf=1, min_samples_split=15, n_estimators=721; total time=   3.9s\n",
      "[CV] END bootstrap=False, criterion=gini, max_depth=5, max_features=auto, min_samples_leaf=1, min_samples_split=15, n_estimators=721; total time=   3.8s\n",
      "[CV] END bootstrap=False, criterion=gini, max_depth=5, max_features=auto, min_samples_leaf=1, min_samples_split=15, n_estimators=721; total time=   3.8s\n",
      "[CV] END bootstrap=True, criterion=entropy, max_depth=50, max_features=sqrt, min_samples_leaf=1, min_samples_split=2, n_estimators=1757; total time=  17.7s\n",
      "[CV] END bootstrap=False, criterion=gini, max_depth=5, max_features=auto, min_samples_leaf=1, min_samples_split=15, n_estimators=721; total time=   3.8s\n",
      "[CV] END bootstrap=False, criterion=gini, max_depth=5, max_features=auto, min_samples_leaf=1, min_samples_split=15, n_estimators=721; total time=   3.8s\n",
      "[CV] END bootstrap=True, criterion=entropy, max_depth=50, max_features=sqrt, min_samples_leaf=1, min_samples_split=2, n_estimators=1757; total time=  17.8s\n",
      "[CV] END bootstrap=True, criterion=entropy, max_depth=1, max_features=sqrt, min_samples_leaf=4, min_samples_split=2, n_estimators=2585; total time=   6.1s\n",
      "[CV] END bootstrap=True, criterion=entropy, max_depth=1, max_features=sqrt, min_samples_leaf=4, min_samples_split=2, n_estimators=2585; total time=   6.1s\n",
      "[CV] END bootstrap=True, criterion=gini, max_depth=10, max_features=auto, min_samples_leaf=1, min_samples_split=1, n_estimators=1135; total time=   0.4s\n",
      "[CV] END bootstrap=True, criterion=gini, max_depth=10, max_features=auto, min_samples_leaf=1, min_samples_split=1, n_estimators=1135; total time=   0.4s\n",
      "[CV] END bootstrap=True, criterion=gini, max_depth=10, max_features=auto, min_samples_leaf=1, min_samples_split=1, n_estimators=1135; total time=   0.4s\n",
      "[CV] END bootstrap=True, criterion=gini, max_depth=10, max_features=auto, min_samples_leaf=1, min_samples_split=1, n_estimators=1135; total time=   0.4s\n",
      "[CV] END bootstrap=True, criterion=gini, max_depth=10, max_features=auto, min_samples_leaf=1, min_samples_split=1, n_estimators=1135; total time=   0.4s\n",
      "[CV] END bootstrap=True, criterion=entropy, max_depth=1, max_features=sqrt, min_samples_leaf=4, min_samples_split=2, n_estimators=2585; total time=   6.1s\n",
      "[CV] END bootstrap=True, criterion=gini, max_depth=1, max_features=sqrt, min_samples_leaf=4, min_samples_split=5, n_estimators=928; total time=   2.1s\n",
      "[CV] END bootstrap=True, criterion=gini, max_depth=1, max_features=sqrt, min_samples_leaf=4, min_samples_split=5, n_estimators=928; total time=   2.1s\n",
      "[CV] END bootstrap=True, criterion=entropy, max_depth=1, max_features=sqrt, min_samples_leaf=4, min_samples_split=2, n_estimators=2585; total time=   6.1s\n",
      "[CV] END bootstrap=True, criterion=entropy, max_depth=1, max_features=sqrt, min_samples_leaf=4, min_samples_split=2, n_estimators=2585; total time=   6.1s\n",
      "[CV] END bootstrap=True, criterion=gini, max_depth=1, max_features=sqrt, min_samples_leaf=4, min_samples_split=5, n_estimators=928; total time=   2.1s\n",
      "[CV] END bootstrap=True, criterion=gini, max_depth=1, max_features=sqrt, min_samples_leaf=4, min_samples_split=5, n_estimators=928; total time=   2.1s\n",
      "[CV] END bootstrap=True, criterion=gini, max_depth=1, max_features=sqrt, min_samples_leaf=4, min_samples_split=5, n_estimators=928; total time=   2.1s\n",
      "[CV] END bootstrap=False, criterion=entropy, max_depth=75, max_features=auto, min_samples_leaf=1, min_samples_split=20, n_estimators=2585; total time=  37.4s\n",
      "[CV] END bootstrap=False, criterion=entropy, max_depth=75, max_features=auto, min_samples_leaf=1, min_samples_split=20, n_estimators=2585; total time=  37.8s\n",
      "[CV] END bootstrap=False, criterion=entropy, max_depth=75, max_features=auto, min_samples_leaf=1, min_samples_split=20, n_estimators=2585; total time=  38.8s\n",
      "[CV] END bootstrap=False, criterion=entropy, max_depth=75, max_features=auto, min_samples_leaf=1, min_samples_split=20, n_estimators=2585; total time=  40.3s\n",
      "[CV] END bootstrap=False, criterion=entropy, max_depth=200, max_features=sqrt, min_samples_leaf=4, min_samples_split=10, n_estimators=1550; total time=  21.0s\n",
      "[CV] END bootstrap=False, criterion=entropy, max_depth=200, max_features=sqrt, min_samples_leaf=4, min_samples_split=10, n_estimators=1550; total time=  21.3s\n",
      "[CV] END bootstrap=False, criterion=entropy, max_depth=200, max_features=sqrt, min_samples_leaf=4, min_samples_split=10, n_estimators=1550; total time=  22.7s\n",
      "[CV] END bootstrap=False, criterion=entropy, max_depth=1, max_features=sqrt, min_samples_leaf=3, min_samples_split=2, n_estimators=1757; total time=   3.9s\n",
      "[CV] END bootstrap=False, criterion=entropy, max_depth=1, max_features=sqrt, min_samples_leaf=3, min_samples_split=2, n_estimators=1757; total time=   3.9s\n",
      "[CV] END bootstrap=False, criterion=entropy, max_depth=1, max_features=sqrt, min_samples_leaf=3, min_samples_split=2, n_estimators=1757; total time=   3.9s\n",
      "[CV] END bootstrap=False, criterion=entropy, max_depth=1, max_features=sqrt, min_samples_leaf=3, min_samples_split=2, n_estimators=1757; total time=   3.9s\n",
      "[CV] END bootstrap=False, criterion=entropy, max_depth=75, max_features=auto, min_samples_leaf=1, min_samples_split=20, n_estimators=2585; total time=  40.1s\n",
      "[CV] END bootstrap=False, criterion=entropy, max_depth=1, max_features=sqrt, min_samples_leaf=3, min_samples_split=2, n_estimators=1757; total time=   3.9s\n",
      "[CV] END bootstrap=True, criterion=gini, max_depth=10, max_features=sqrt, min_samples_leaf=4, min_samples_split=2, n_estimators=721; total time=   4.6s\n",
      "[CV] END bootstrap=False, criterion=entropy, max_depth=200, max_features=sqrt, min_samples_leaf=4, min_samples_split=10, n_estimators=1550; total time=  21.9s\n",
      "[CV] END bootstrap=False, criterion=entropy, max_depth=200, max_features=sqrt, min_samples_leaf=4, min_samples_split=10, n_estimators=1550; total time=  22.7s\n",
      "[CV] END bootstrap=True, criterion=gini, max_depth=10, max_features=sqrt, min_samples_leaf=4, min_samples_split=2, n_estimators=721; total time=   4.6s\n",
      "[CV] END bootstrap=True, criterion=gini, max_depth=10, max_features=sqrt, min_samples_leaf=4, min_samples_split=2, n_estimators=721; total time=   4.6s\n",
      "[CV] END bootstrap=True, criterion=gini, max_depth=10, max_features=sqrt, min_samples_leaf=4, min_samples_split=2, n_estimators=721; total time=   4.6s\n",
      "[CV] END bootstrap=True, criterion=gini, max_depth=100, max_features=auto, min_samples_leaf=3, min_samples_split=15, n_estimators=307; total time=   2.4s\n",
      "[CV] END bootstrap=True, criterion=gini, max_depth=10, max_features=sqrt, min_samples_leaf=4, min_samples_split=2, n_estimators=721; total time=   4.6s\n",
      "[CV] END bootstrap=True, criterion=gini, max_depth=100, max_features=auto, min_samples_leaf=3, min_samples_split=15, n_estimators=307; total time=   2.3s\n",
      "[CV] END bootstrap=True, criterion=gini, max_depth=100, max_features=auto, min_samples_leaf=3, min_samples_split=15, n_estimators=307; total time=   2.4s\n",
      "[CV] END bootstrap=True, criterion=gini, max_depth=100, max_features=auto, min_samples_leaf=1, min_samples_split=1, n_estimators=2378; total time=   0.9s\n",
      "[CV] END bootstrap=True, criterion=gini, max_depth=100, max_features=auto, min_samples_leaf=3, min_samples_split=15, n_estimators=307; total time=   2.4s\n",
      "[CV] END bootstrap=True, criterion=gini, max_depth=100, max_features=auto, min_samples_leaf=1, min_samples_split=1, n_estimators=2378; total time=   0.9s\n",
      "[CV] END bootstrap=True, criterion=gini, max_depth=100, max_features=auto, min_samples_leaf=3, min_samples_split=15, n_estimators=307; total time=   2.4s\n",
      "[CV] END bootstrap=True, criterion=gini, max_depth=100, max_features=auto, min_samples_leaf=1, min_samples_split=1, n_estimators=2378; total time=   0.9s\n",
      "[CV] END bootstrap=True, criterion=gini, max_depth=100, max_features=auto, min_samples_leaf=1, min_samples_split=1, n_estimators=2378; total time=   0.9s\n",
      "[CV] END bootstrap=True, criterion=gini, max_depth=100, max_features=auto, min_samples_leaf=1, min_samples_split=1, n_estimators=2378; total time=   0.9s\n",
      "[CV] END bootstrap=True, criterion=gini, max_depth=150, max_features=sqrt, min_samples_leaf=2, min_samples_split=2, n_estimators=100; total time=   0.8s\n",
      "[CV] END bootstrap=True, criterion=gini, max_depth=150, max_features=sqrt, min_samples_leaf=2, min_samples_split=2, n_estimators=100; total time=   0.8s\n",
      "[CV] END bootstrap=True, criterion=gini, max_depth=150, max_features=sqrt, min_samples_leaf=2, min_samples_split=2, n_estimators=100; total time=   0.8s\n",
      "[CV] END bootstrap=True, criterion=gini, max_depth=150, max_features=sqrt, min_samples_leaf=2, min_samples_split=2, n_estimators=100; total time=   0.8s\n",
      "[CV] END bootstrap=True, criterion=gini, max_depth=150, max_features=sqrt, min_samples_leaf=2, min_samples_split=2, n_estimators=100; total time=   0.8s\n",
      "[CV] END bootstrap=False, criterion=gini, max_depth=10, max_features=sqrt, min_samples_leaf=4, min_samples_split=5, n_estimators=721; total time=   6.2s\n",
      "[CV] END bootstrap=False, criterion=gini, max_depth=10, max_features=sqrt, min_samples_leaf=4, min_samples_split=5, n_estimators=721; total time=   6.2s\n",
      "[CV] END bootstrap=False, criterion=gini, max_depth=10, max_features=sqrt, min_samples_leaf=4, min_samples_split=5, n_estimators=721; total time=   6.2s\n",
      "[CV] END bootstrap=False, criterion=gini, max_depth=10, max_features=sqrt, min_samples_leaf=4, min_samples_split=5, n_estimators=721; total time=   6.3s\n",
      "[CV] END bootstrap=False, criterion=gini, max_depth=10, max_features=sqrt, min_samples_leaf=4, min_samples_split=5, n_estimators=721; total time=   6.2s\n"
     ]
    },
    {
     "name": "stderr",
     "output_type": "stream",
     "text": [
      "/Users/kirran/opt/anaconda3/lib/python3.9/site-packages/sklearn/model_selection/_validation.py:372: FitFailedWarning: \n",
      "10 fits failed out of a total of 150.\n",
      "The score on these train-test partitions for these parameters will be set to nan.\n",
      "If these failures are not expected, you can try to debug them by setting error_score='raise'.\n",
      "\n",
      "Below are more details about the failures:\n",
      "--------------------------------------------------------------------------------\n",
      "10 fits failed with the following error:\n",
      "Traceback (most recent call last):\n",
      "  File \"/Users/kirran/opt/anaconda3/lib/python3.9/site-packages/sklearn/model_selection/_validation.py\", line 680, in _fit_and_score\n",
      "    estimator.fit(X_train, y_train, **fit_params)\n",
      "  File \"/Users/kirran/opt/anaconda3/lib/python3.9/site-packages/sklearn/ensemble/_forest.py\", line 450, in fit\n",
      "    trees = Parallel(\n",
      "  File \"/Users/kirran/opt/anaconda3/lib/python3.9/site-packages/joblib/parallel.py\", line 1043, in __call__\n",
      "    if self.dispatch_one_batch(iterator):\n",
      "  File \"/Users/kirran/opt/anaconda3/lib/python3.9/site-packages/joblib/parallel.py\", line 861, in dispatch_one_batch\n",
      "    self._dispatch(tasks)\n",
      "  File \"/Users/kirran/opt/anaconda3/lib/python3.9/site-packages/joblib/parallel.py\", line 779, in _dispatch\n",
      "    job = self._backend.apply_async(batch, callback=cb)\n",
      "  File \"/Users/kirran/opt/anaconda3/lib/python3.9/site-packages/joblib/_parallel_backends.py\", line 208, in apply_async\n",
      "    result = ImmediateResult(func)\n",
      "  File \"/Users/kirran/opt/anaconda3/lib/python3.9/site-packages/joblib/_parallel_backends.py\", line 572, in __init__\n",
      "    self.results = batch()\n",
      "  File \"/Users/kirran/opt/anaconda3/lib/python3.9/site-packages/joblib/parallel.py\", line 262, in __call__\n",
      "    return [func(*args, **kwargs)\n",
      "  File \"/Users/kirran/opt/anaconda3/lib/python3.9/site-packages/joblib/parallel.py\", line 262, in <listcomp>\n",
      "    return [func(*args, **kwargs)\n",
      "  File \"/Users/kirran/opt/anaconda3/lib/python3.9/site-packages/sklearn/utils/fixes.py\", line 216, in __call__\n",
      "    return self.function(*args, **kwargs)\n",
      "  File \"/Users/kirran/opt/anaconda3/lib/python3.9/site-packages/sklearn/ensemble/_forest.py\", line 185, in _parallel_build_trees\n",
      "    tree.fit(X, y, sample_weight=curr_sample_weight, check_input=False)\n",
      "  File \"/Users/kirran/opt/anaconda3/lib/python3.9/site-packages/sklearn/tree/_classes.py\", line 937, in fit\n",
      "    super().fit(\n",
      "  File \"/Users/kirran/opt/anaconda3/lib/python3.9/site-packages/sklearn/tree/_classes.py\", line 250, in fit\n",
      "    raise ValueError(\n",
      "ValueError: min_samples_split must be an integer greater than 1 or a float in (0.0, 1.0]; got the integer 1\n",
      "\n",
      "  warnings.warn(some_fits_failed_message, FitFailedWarning)\n",
      "/Users/kirran/opt/anaconda3/lib/python3.9/site-packages/sklearn/model_selection/_search.py:969: UserWarning: One or more of the test scores are non-finite: [0.876      0.8272     0.87013333 0.90373333 0.90053333 0.90293333\n",
      " 0.9008     0.9016     0.90266667 0.90213333 0.9032     0.8992\n",
      " 0.90293333 0.90373333 0.90293333 0.89946667 0.9024     0.9\n",
      " 0.87733333 0.8272            nan 0.8272     0.90053333 0.90026667\n",
      " 0.8272     0.9008     0.90026667        nan 0.90213333 0.90106667]\n",
      "  warnings.warn(\n"
     ]
    },
    {
     "data": {
      "text/plain": [
       "RandomizedSearchCV(cv=5, estimator=RandomForestClassifier(), n_iter=30,\n",
       "                   n_jobs=4,\n",
       "                   param_distributions={'bootstrap': [True, False],\n",
       "                                        'criterion': ['gini', 'entropy'],\n",
       "                                        'max_depth': [1, 5, 10, 20, 50, 75, 100,\n",
       "                                                      150, 200],\n",
       "                                        'max_features': ['auto', 'sqrt'],\n",
       "                                        'min_samples_leaf': [1, 2, 3, 4],\n",
       "                                        'min_samples_split': [1, 2, 5, 10, 15,\n",
       "                                                              20, 30],\n",
       "                                        'n_estimators': array([ 100,  307,  514,  721,  928, 1135, 1342, 1550, 1757, 1964, 2171,\n",
       "       2378, 2585, 2792, 3000])},\n",
       "                   random_state=42, verbose=2)"
      ]
     },
     "execution_count": 49,
     "metadata": {},
     "output_type": "execute_result"
    }
   ],
   "source": [
    "# Randomized search on hyper parameters\n",
    "from sklearn.model_selection import RandomizedSearchCV\n",
    "rf_base = RandomForestClassifier()\n",
    "rf_random = RandomizedSearchCV(estimator = rf_base,\n",
    "                               param_distributions = random_grid,\n",
    "                               n_iter = 30, cv = 5,\n",
    "                               verbose = 2,\n",
    "                               random_state = 42, n_jobs = 4)\n",
    "rf_random.fit(X_train_scaled, y_train)"
   ]
  },
  {
   "cell_type": "code",
   "execution_count": 50,
   "metadata": {},
   "outputs": [
    {
     "data": {
      "text/plain": [
       "{'n_estimators': 1135,\n",
       " 'min_samples_split': 5,\n",
       " 'min_samples_leaf': 4,\n",
       " 'max_features': 'auto',\n",
       " 'max_depth': 100,\n",
       " 'criterion': 'gini',\n",
       " 'bootstrap': True}"
      ]
     },
     "execution_count": 50,
     "metadata": {},
     "output_type": "execute_result"
    }
   ],
   "source": [
    "rf_random.best_params_"
   ]
  },
  {
   "cell_type": "code",
   "execution_count": 87,
   "metadata": {},
   "outputs": [],
   "source": [
    "# Tuning Hyper-parameter\n",
    "rfc = RandomForestClassifier(n_estimators=1135,\n",
    "                             min_samples_split=5,\n",
    "                             min_samples_leaf=4,\n",
    "                             max_features='auto',\n",
    "                             max_depth=100,\n",
    "                             criterion='gini',\n",
    "                             bootstrap=True)"
   ]
  },
  {
   "cell_type": "code",
   "execution_count": 88,
   "metadata": {},
   "outputs": [
    {
     "name": "stdout",
     "output_type": "stream",
     "text": [
      "Training Data Score: 0.9309333333333333\n",
      "Testing Data Score: 0.8816\n"
     ]
    }
   ],
   "source": [
    "# Testing the optimised model\n",
    "rfc.fit(X_train_scaled, y_train)\n",
    "thresh = 0.29\n",
    "pt = np.where(rfc.predict_proba(X_test_scaled)[:,1] > thresh, 1, 0)\n",
    "print(f\"Training Data Score: {rfc.score(X_train_scaled, y_train)}\")\n",
    "print(f\"Testing Data Score: {rfc.score(X_test_scaled, y_test)}\")"
   ]
  },
  {
   "cell_type": "code",
   "execution_count": 89,
   "metadata": {},
   "outputs": [
    {
     "data": {
      "text/plain": [
       "array([[994,  19],\n",
       "       [129, 108]])"
      ]
     },
     "execution_count": 89,
     "metadata": {},
     "output_type": "execute_result"
    }
   ],
   "source": [
    "# Creating a confusion matrix without threshold change\n",
    "y_pred = rfc.predict(X_test_scaled)\n",
    "confusion_matrix = metrics.confusion_matrix(y_test, y_pred)\n",
    "confusion_matrix"
   ]
  },
  {
   "cell_type": "code",
   "execution_count": 90,
   "metadata": {},
   "outputs": [
    {
     "data": {
      "text/plain": [
       "Text(0.5, 257.44, 'Predicted label')"
      ]
     },
     "execution_count": 90,
     "metadata": {},
     "output_type": "execute_result"
    },
    {
     "data": {
      "image/png": "[encoded data removed]",
      "text/plain": [
       "<Figure size 432x288 with 2 Axes>"
      ]
     },
     "metadata": {
      "needs_background": "light"
     },
     "output_type": "display_data"
    }
   ],
   "source": [
    "# Creating confusion matrix diagram\n",
    "class_names=[0,1]\n",
    "fig, ax = plt.subplots()\n",
    "tick_marks = np.arange(len(class_names))\n",
    "plt.xticks(tick_marks, class_names)\n",
    "plt.yticks(tick_marks, class_names)\n",
    "\n",
    "# Create a heatmap\n",
    "sns.heatmap(pd.DataFrame(confusion_matrix), annot=True, cmap=\"YlGnBu\" ,fmt='g')\n",
    "ax.xaxis.set_label_position(\"top\")\n",
    "plt.tight_layout()\n",
    "plt.title('Confusion matrix', y=1.1)\n",
    "plt.ylabel('Actual label')\n",
    "plt.xlabel('Predicted label')"
   ]
  },
  {
   "cell_type": "code",
   "execution_count": 91,
   "metadata": {
    "pycharm": {
     "name": "#%%\n"
    }
   },
   "outputs": [
    {
     "data": {
      "text/plain": [
       "array([[965,  48],\n",
       "       [ 98, 139]])"
      ]
     },
     "execution_count": 91,
     "metadata": {},
     "output_type": "execute_result"
    }
   ],
   "source": [
    "# Creating a confusion matrix on new threshold\n",
    "confusion_matrix = metrics.confusion_matrix(y_test, pt)\n",
    "confusion_matrix"
   ]
  },
  {
   "cell_type": "code",
   "execution_count": 92,
   "metadata": {
    "pycharm": {
     "name": "#%%\n"
    }
   },
   "outputs": [
    {
     "data": {
      "text/plain": [
       "Text(0.5, 257.44, 'Predicted label')"
      ]
     },
     "execution_count": 92,
     "metadata": {},
     "output_type": "execute_result"
    },
    {
     "data": {
      "image/png": "[encoded data removed]",
      "text/plain": [
       "<Figure size 432x288 with 2 Axes>"
      ]
     },
     "metadata": {
      "needs_background": "light"
     },
     "output_type": "display_data"
    }
   ],
   "source": [
    "# Creating confusion matrix diagram\n",
    "class_names=[0,1]\n",
    "fig, ax = plt.subplots()\n",
    "tick_marks = np.arange(len(class_names))\n",
    "plt.xticks(tick_marks, class_names)\n",
    "plt.yticks(tick_marks, class_names)\n",
    "\n",
    "# Create a heatmap\n",
    "sns.heatmap(pd.DataFrame(confusion_matrix), annot=True, cmap=\"YlGnBu\" ,fmt='g')\n",
    "ax.xaxis.set_label_position(\"top\")\n",
    "plt.tight_layout()\n",
    "plt.title('Confusion matrix', y=1.1)\n",
    "plt.ylabel('Actual label')\n",
    "plt.xlabel('Predicted label')"
   ]
  },
  {
   "cell_type": "code",
   "execution_count": 98,
   "metadata": {
    "pycharm": {
     "name": "#%%\n"
    }
   },
   "outputs": [
    {
     "name": "stdout",
     "output_type": "stream",
     "text": [
      "              precision    recall  f1-score   support\n",
      "\n",
      "   churn: no       0.91      0.95      0.93      1013\n",
      "  churn: yes       0.74      0.59      0.66       237\n",
      "\n",
      "    accuracy                           0.88      1250\n",
      "   macro avg       0.83      0.77      0.79      1250\n",
      "weighted avg       0.88      0.88      0.88      1250\n",
      "\n"
     ]
    }
   ],
   "source": [
    "# Create the classification report\n",
    "target_names = ['churn: no', 'churn: yes']\n",
    "print(classification_report(y_test, pt, target_names=target_names))"
   ]
  },
  {
   "cell_type": "code",
   "execution_count": 94,
   "metadata": {
    "pycharm": {
     "name": "#%%\n"
    }
   },
   "outputs": [
    {
     "data": {
      "image/png": "[encoded data removed]",
      "text/plain": [
       "<Figure size 432x288 with 1 Axes>"
      ]
     },
     "metadata": {
      "needs_background": "light"
     },
     "output_type": "display_data"
    }
   ],
   "source": [
    "# Create area under the curve graph\n",
    "y_pred_proba = rfc.predict_proba(X_test_scaled)[::,1]\n",
    "fpr, tpr, _ = metrics.roc_curve(y_test,  y_pred_proba)\n",
    "auc = metrics.roc_auc_score(y_test, y_pred_proba)\n",
    "plt.plot(fpr, tpr,label='data 1, auc=' + str(auc))\n",
    "plt.legend(loc=4)\n",
    "plt.show()"
   ]
  }
 ],
 "metadata": {
  "kernelspec": {
   "display_name": "Python 3 (ipykernel)",
   "language": "python",
   "name": "python3"
  },
  "language_info": {
   "codemirror_mode": {
    "name": "ipython",
    "version": 3
   },
   "file_extension": ".py",
   "mimetype": "text/x-python",
   "name": "python",
   "nbconvert_exporter": "python",
   "pygments_lexer": "ipython3",
   "version": "3.9.12"
  },
  "vscode": {
   "interpreter": {
    "hash": "8207b986d7bfb255b4802475422e7db94ffa4daf232221fb0dfea7f81a3dc027"
   }
  }
 },
 "nbformat": 4,
 "nbformat_minor": 1
}
