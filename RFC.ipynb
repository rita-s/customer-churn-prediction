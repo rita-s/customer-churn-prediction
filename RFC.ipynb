{
 "cells": [
  {
   "cell_type": "code",
   "execution_count": 2,
   "outputs": [],
   "source": [
    "# Importing dependencies\n",
    "import numpy as np\n",
    "import pandas\n",
    "import pandas as pd\n",
    "import matplotlib.pyplot as plt\n",
    "from sklearn.model_selection import train_test_split\n",
    "from sklearn.preprocessing import StandardScaler\n",
    "from sklearn.ensemble import RandomForestClassifier\n",
    "from sklearn import metrics\n",
    "from sklearn.metrics import confusion_matrix\n",
    "from sklearn.metrics import classification_report\n",
    "import math\n",
    "import seaborn as sns\n",
    "from sqlalchemy import create_engine\n",
    "from password import password"
   ],
   "metadata": {
    "collapsed": false,
    "pycharm": {
     "name": "#%%\n"
    }
   }
  },
  {
   "cell_type": "code",
   "execution_count": 3,
   "outputs": [],
   "source": [
    "protocol = 'postgresql'\n",
    "username = 'postgres'\n",
    "password = password\n",
    "host = 'localhost'\n",
    "port = 5432\n",
    "database_name = 'churn_pred'\n",
    "rds_connection_string = f'{protocol}://{username}:{password}@{host}:{port}/{database_name}'\n",
    "engine = create_engine(rds_connection_string)\n",
    "connection = engine.connect()"
   ],
   "metadata": {
    "collapsed": false,
    "pycharm": {
     "name": "#%%\n"
    }
   }
  },
  {
   "cell_type": "code",
   "execution_count": 4,
   "outputs": [
    {
     "data": {
      "text/html": [
       "<div>\n",
       "<style scoped>\n",
       "    .dataframe tbody tr th:only-of-type {\n",
       "        vertical-align: middle;\n",
       "    }\n",
       "\n",
       "    .dataframe tbody tr th {\n",
       "        vertical-align: top;\n",
       "    }\n",
       "\n",
       "    .dataframe thead th {\n",
       "        text-align: right;\n",
       "    }\n",
       "</style>\n",
       "<table border=\"1\" class=\"dataframe\">\n",
       "  <thead>\n",
       "    <tr style=\"text-align: right;\">\n",
       "      <th></th>\n",
       "      <th>account_length</th>\n",
       "      <th>number_vmail_messages</th>\n",
       "      <th>total_day_minutes</th>\n",
       "      <th>total_day_calls</th>\n",
       "      <th>total_day_charge</th>\n",
       "      <th>total_eve_minutes</th>\n",
       "      <th>total_eve_calls</th>\n",
       "      <th>total_eve_charge</th>\n",
       "      <th>total_night_minutes</th>\n",
       "      <th>total_night_calls</th>\n",
       "      <th>total_night_charge</th>\n",
       "      <th>total_intl_minutes</th>\n",
       "      <th>total_intl_calls</th>\n",
       "      <th>total_intl_charge</th>\n",
       "      <th>number_customer_service_calls</th>\n",
       "      <th>churn</th>\n",
       "      <th>international_plan_yes</th>\n",
       "      <th>voice_mail_plan_yes</th>\n",
       "    </tr>\n",
       "  </thead>\n",
       "  <tbody>\n",
       "    <tr>\n",
       "      <th>0</th>\n",
       "      <td>128</td>\n",
       "      <td>25</td>\n",
       "      <td>265.1</td>\n",
       "      <td>110</td>\n",
       "      <td>45.07</td>\n",
       "      <td>197.4</td>\n",
       "      <td>99</td>\n",
       "      <td>16.78</td>\n",
       "      <td>244.7</td>\n",
       "      <td>91</td>\n",
       "      <td>11.01</td>\n",
       "      <td>10.0</td>\n",
       "      <td>3</td>\n",
       "      <td>2.70</td>\n",
       "      <td>1</td>\n",
       "      <td>1</td>\n",
       "      <td>0</td>\n",
       "      <td>1</td>\n",
       "    </tr>\n",
       "    <tr>\n",
       "      <th>1</th>\n",
       "      <td>118</td>\n",
       "      <td>0</td>\n",
       "      <td>223.4</td>\n",
       "      <td>98</td>\n",
       "      <td>37.98</td>\n",
       "      <td>220.6</td>\n",
       "      <td>101</td>\n",
       "      <td>18.75</td>\n",
       "      <td>203.9</td>\n",
       "      <td>118</td>\n",
       "      <td>9.18</td>\n",
       "      <td>6.3</td>\n",
       "      <td>6</td>\n",
       "      <td>1.70</td>\n",
       "      <td>0</td>\n",
       "      <td>0</td>\n",
       "      <td>1</td>\n",
       "      <td>0</td>\n",
       "    </tr>\n",
       "    <tr>\n",
       "      <th>2</th>\n",
       "      <td>62</td>\n",
       "      <td>0</td>\n",
       "      <td>120.7</td>\n",
       "      <td>70</td>\n",
       "      <td>20.52</td>\n",
       "      <td>307.2</td>\n",
       "      <td>76</td>\n",
       "      <td>26.11</td>\n",
       "      <td>203.0</td>\n",
       "      <td>99</td>\n",
       "      <td>9.14</td>\n",
       "      <td>13.1</td>\n",
       "      <td>6</td>\n",
       "      <td>3.54</td>\n",
       "      <td>4</td>\n",
       "      <td>0</td>\n",
       "      <td>0</td>\n",
       "      <td>0</td>\n",
       "    </tr>\n",
       "    <tr>\n",
       "      <th>3</th>\n",
       "      <td>93</td>\n",
       "      <td>0</td>\n",
       "      <td>190.7</td>\n",
       "      <td>114</td>\n",
       "      <td>32.42</td>\n",
       "      <td>218.2</td>\n",
       "      <td>111</td>\n",
       "      <td>18.55</td>\n",
       "      <td>129.6</td>\n",
       "      <td>121</td>\n",
       "      <td>5.83</td>\n",
       "      <td>8.1</td>\n",
       "      <td>3</td>\n",
       "      <td>2.19</td>\n",
       "      <td>3</td>\n",
       "      <td>1</td>\n",
       "      <td>0</td>\n",
       "      <td>0</td>\n",
       "    </tr>\n",
       "    <tr>\n",
       "      <th>4</th>\n",
       "      <td>174</td>\n",
       "      <td>0</td>\n",
       "      <td>124.3</td>\n",
       "      <td>76</td>\n",
       "      <td>21.13</td>\n",
       "      <td>277.1</td>\n",
       "      <td>112</td>\n",
       "      <td>23.55</td>\n",
       "      <td>250.7</td>\n",
       "      <td>115</td>\n",
       "      <td>11.28</td>\n",
       "      <td>15.5</td>\n",
       "      <td>5</td>\n",
       "      <td>4.19</td>\n",
       "      <td>3</td>\n",
       "      <td>1</td>\n",
       "      <td>0</td>\n",
       "      <td>0</td>\n",
       "    </tr>\n",
       "  </tbody>\n",
       "</table>\n",
       "</div>"
      ],
      "text/plain": [
       "   account_length  number_vmail_messages  total_day_minutes  total_day_calls  \\\n",
       "0             128                     25              265.1              110   \n",
       "1             118                      0              223.4               98   \n",
       "2              62                      0              120.7               70   \n",
       "3              93                      0              190.7              114   \n",
       "4             174                      0              124.3               76   \n",
       "\n",
       "   total_day_charge  total_eve_minutes  total_eve_calls  total_eve_charge  \\\n",
       "0             45.07              197.4               99             16.78   \n",
       "1             37.98              220.6              101             18.75   \n",
       "2             20.52              307.2               76             26.11   \n",
       "3             32.42              218.2              111             18.55   \n",
       "4             21.13              277.1              112             23.55   \n",
       "\n",
       "   total_night_minutes  total_night_calls  total_night_charge  \\\n",
       "0                244.7                 91               11.01   \n",
       "1                203.9                118                9.18   \n",
       "2                203.0                 99                9.14   \n",
       "3                129.6                121                5.83   \n",
       "4                250.7                115               11.28   \n",
       "\n",
       "   total_intl_minutes  total_intl_calls  total_intl_charge  \\\n",
       "0                10.0                 3               2.70   \n",
       "1                 6.3                 6               1.70   \n",
       "2                13.1                 6               3.54   \n",
       "3                 8.1                 3               2.19   \n",
       "4                15.5                 5               4.19   \n",
       "\n",
       "   number_customer_service_calls  churn  international_plan_yes  \\\n",
       "0                              1      1                       0   \n",
       "1                              0      0                       1   \n",
       "2                              4      0                       0   \n",
       "3                              3      1                       0   \n",
       "4                              3      1                       0   \n",
       "\n",
       "   voice_mail_plan_yes  \n",
       "0                    1  \n",
       "1                    0  \n",
       "2                    0  \n",
       "3                    0  \n",
       "4                    0  "
      ]
     },
     "execution_count": 4,
     "metadata": {},
     "output_type": "execute_result"
    }
   ],
   "source": [
    "# Loading and displaying a dataset\n",
    "df = pd.read_sql(\"SELECT * FROM fact_churn\", connection)\n",
    "df.head()"
   ],
   "metadata": {
    "collapsed": false,
    "pycharm": {
     "name": "#%%\n"
    }
   }
  },
  {
   "cell_type": "code",
   "execution_count": 5,
   "outputs": [],
   "source": [
    "# Split the data into X_train, X_test, y_train, y_test\n",
    "X = df.drop(['churn'], axis=1)\n",
    "y = df['churn'].values\n",
    "\n",
    "X_train, X_test, y_train, y_test = train_test_split(X, y, random_state=42, test_size = 0.25)\n",
    "\n",
    "scaler = StandardScaler().fit(X_train)\n",
    "X_train_scaled = scaler.transform(X_train)\n",
    "X_test_scaled = scaler.transform(X_test)"
   ],
   "metadata": {
    "collapsed": false,
    "pycharm": {
     "name": "#%%\n"
    }
   }
  },
  {
   "cell_type": "code",
   "execution_count": 6,
   "outputs": [
    {
     "data": {
      "text/plain": [
       "(3750, 17)"
      ]
     },
     "execution_count": 6,
     "metadata": {},
     "output_type": "execute_result"
    }
   ],
   "source": [
    "# Checking data split in training\n",
    "X_train.shape"
   ],
   "metadata": {
    "collapsed": false,
    "pycharm": {
     "name": "#%%\n"
    }
   }
  },
  {
   "cell_type": "code",
   "execution_count": 7,
   "outputs": [
    {
     "data": {
      "text/plain": [
       "(1250, 17)"
      ]
     },
     "execution_count": 7,
     "metadata": {},
     "output_type": "execute_result"
    }
   ],
   "source": [
    "# Checking data split in testing\n",
    "X_test.shape"
   ],
   "metadata": {
    "collapsed": false,
    "pycharm": {
     "name": "#%%\n"
    }
   }
  },
  {
   "cell_type": "code",
   "execution_count": 8,
   "outputs": [
    {
     "data": {
      "text/html": [
       "<div>\n",
       "<style scoped>\n",
       "    .dataframe tbody tr th:only-of-type {\n",
       "        vertical-align: middle;\n",
       "    }\n",
       "\n",
       "    .dataframe tbody tr th {\n",
       "        vertical-align: top;\n",
       "    }\n",
       "\n",
       "    .dataframe thead th {\n",
       "        text-align: right;\n",
       "    }\n",
       "</style>\n",
       "<table border=\"1\" class=\"dataframe\">\n",
       "  <thead>\n",
       "    <tr style=\"text-align: right;\">\n",
       "      <th></th>\n",
       "      <th>account_length</th>\n",
       "      <th>number_vmail_messages</th>\n",
       "      <th>total_day_minutes</th>\n",
       "      <th>total_day_calls</th>\n",
       "      <th>total_day_charge</th>\n",
       "      <th>total_eve_minutes</th>\n",
       "      <th>total_eve_calls</th>\n",
       "      <th>total_eve_charge</th>\n",
       "      <th>total_night_minutes</th>\n",
       "      <th>total_night_calls</th>\n",
       "      <th>total_night_charge</th>\n",
       "      <th>total_intl_minutes</th>\n",
       "      <th>total_intl_calls</th>\n",
       "      <th>total_intl_charge</th>\n",
       "      <th>number_customer_service_calls</th>\n",
       "      <th>international_plan_yes</th>\n",
       "      <th>voice_mail_plan_yes</th>\n",
       "    </tr>\n",
       "  </thead>\n",
       "  <tbody>\n",
       "    <tr>\n",
       "      <th>2247</th>\n",
       "      <td>68</td>\n",
       "      <td>0</td>\n",
       "      <td>157.3</td>\n",
       "      <td>83</td>\n",
       "      <td>26.74</td>\n",
       "      <td>220.9</td>\n",
       "      <td>85</td>\n",
       "      <td>18.78</td>\n",
       "      <td>218.9</td>\n",
       "      <td>129</td>\n",
       "      <td>9.85</td>\n",
       "      <td>12.0</td>\n",
       "      <td>7</td>\n",
       "      <td>3.24</td>\n",
       "      <td>1</td>\n",
       "      <td>0</td>\n",
       "      <td>0</td>\n",
       "    </tr>\n",
       "    <tr>\n",
       "      <th>2786</th>\n",
       "      <td>127</td>\n",
       "      <td>0</td>\n",
       "      <td>247.5</td>\n",
       "      <td>99</td>\n",
       "      <td>42.08</td>\n",
       "      <td>108.5</td>\n",
       "      <td>118</td>\n",
       "      <td>9.22</td>\n",
       "      <td>232.0</td>\n",
       "      <td>72</td>\n",
       "      <td>10.44</td>\n",
       "      <td>10.6</td>\n",
       "      <td>3</td>\n",
       "      <td>2.86</td>\n",
       "      <td>2</td>\n",
       "      <td>1</td>\n",
       "      <td>0</td>\n",
       "    </tr>\n",
       "    <tr>\n",
       "      <th>215</th>\n",
       "      <td>1</td>\n",
       "      <td>30</td>\n",
       "      <td>183.1</td>\n",
       "      <td>95</td>\n",
       "      <td>31.13</td>\n",
       "      <td>232.6</td>\n",
       "      <td>110</td>\n",
       "      <td>19.77</td>\n",
       "      <td>248.3</td>\n",
       "      <td>110</td>\n",
       "      <td>11.17</td>\n",
       "      <td>8.4</td>\n",
       "      <td>2</td>\n",
       "      <td>2.27</td>\n",
       "      <td>0</td>\n",
       "      <td>0</td>\n",
       "      <td>1</td>\n",
       "    </tr>\n",
       "    <tr>\n",
       "      <th>3132</th>\n",
       "      <td>146</td>\n",
       "      <td>0</td>\n",
       "      <td>115.6</td>\n",
       "      <td>77</td>\n",
       "      <td>19.65</td>\n",
       "      <td>213.6</td>\n",
       "      <td>100</td>\n",
       "      <td>18.16</td>\n",
       "      <td>218.4</td>\n",
       "      <td>72</td>\n",
       "      <td>9.83</td>\n",
       "      <td>10.7</td>\n",
       "      <td>6</td>\n",
       "      <td>2.89</td>\n",
       "      <td>1</td>\n",
       "      <td>0</td>\n",
       "      <td>0</td>\n",
       "    </tr>\n",
       "    <tr>\n",
       "      <th>2432</th>\n",
       "      <td>101</td>\n",
       "      <td>16</td>\n",
       "      <td>118.9</td>\n",
       "      <td>112</td>\n",
       "      <td>20.21</td>\n",
       "      <td>228.3</td>\n",
       "      <td>97</td>\n",
       "      <td>19.41</td>\n",
       "      <td>180.1</td>\n",
       "      <td>111</td>\n",
       "      <td>8.10</td>\n",
       "      <td>8.2</td>\n",
       "      <td>5</td>\n",
       "      <td>2.21</td>\n",
       "      <td>2</td>\n",
       "      <td>0</td>\n",
       "      <td>1</td>\n",
       "    </tr>\n",
       "  </tbody>\n",
       "</table>\n",
       "</div>"
      ],
      "text/plain": [
       "      account_length  number_vmail_messages  total_day_minutes  \\\n",
       "2247              68                      0              157.3   \n",
       "2786             127                      0              247.5   \n",
       "215                1                     30              183.1   \n",
       "3132             146                      0              115.6   \n",
       "2432             101                     16              118.9   \n",
       "\n",
       "      total_day_calls  total_day_charge  total_eve_minutes  total_eve_calls  \\\n",
       "2247               83             26.74              220.9               85   \n",
       "2786               99             42.08              108.5              118   \n",
       "215                95             31.13              232.6              110   \n",
       "3132               77             19.65              213.6              100   \n",
       "2432              112             20.21              228.3               97   \n",
       "\n",
       "      total_eve_charge  total_night_minutes  total_night_calls  \\\n",
       "2247             18.78                218.9                129   \n",
       "2786              9.22                232.0                 72   \n",
       "215              19.77                248.3                110   \n",
       "3132             18.16                218.4                 72   \n",
       "2432             19.41                180.1                111   \n",
       "\n",
       "      total_night_charge  total_intl_minutes  total_intl_calls  \\\n",
       "2247                9.85                12.0                 7   \n",
       "2786               10.44                10.6                 3   \n",
       "215                11.17                 8.4                 2   \n",
       "3132                9.83                10.7                 6   \n",
       "2432                8.10                 8.2                 5   \n",
       "\n",
       "      total_intl_charge  number_customer_service_calls  \\\n",
       "2247               3.24                              1   \n",
       "2786               2.86                              2   \n",
       "215                2.27                              0   \n",
       "3132               2.89                              1   \n",
       "2432               2.21                              2   \n",
       "\n",
       "      international_plan_yes  voice_mail_plan_yes  \n",
       "2247                       0                    0  \n",
       "2786                       1                    0  \n",
       "215                        0                    1  \n",
       "3132                       0                    0  \n",
       "2432                       0                    1  "
      ]
     },
     "execution_count": 8,
     "metadata": {},
     "output_type": "execute_result"
    }
   ],
   "source": [
    "# Retrieving sample of the data\n",
    "X.sample(5)"
   ],
   "metadata": {
    "collapsed": false,
    "pycharm": {
     "name": "#%%\n"
    }
   }
  },
  {
   "cell_type": "code",
   "execution_count": 15,
   "outputs": [],
   "source": [
    "# Tuning Hyper-parameter\n",
    "rfc = RandomForestClassifier(criterion='entropy', max_depth=10, random_state=42, class_weight='balanced')"
   ],
   "metadata": {
    "collapsed": false,
    "pycharm": {
     "name": "#%%\n"
    }
   }
  },
  {
   "cell_type": "code",
   "execution_count": 35,
   "outputs": [
    {
     "name": "stdout",
     "output_type": "stream",
     "text": [
      "Training Data Score: 0.948\n",
      "Testing Data Score: 0.8816\n"
     ]
    }
   ],
   "source": [
    "# Testing the optimised model\n",
    "rfc.fit(X_train_scaled, y_train)\n",
    "thresh = 0.33\n",
    "pt = np.where(rfc.predict_proba(X_test_scaled)[:,1] > thresh, 1, 0)\n",
    "print(f\"Training Data Score: {rfc.score(X_train_scaled, y_train)}\")\n",
    "print(f\"Testing Data Score: {rfc.score(X_test_scaled, y_test)}\")"
   ],
   "metadata": {
    "collapsed": false,
    "pycharm": {
     "name": "#%%\n"
    }
   }
  },
  {
   "cell_type": "code",
   "execution_count": 36,
   "outputs": [
    {
     "data": {
      "text/plain": [
       "array([[905, 108],\n",
       "       [ 91, 146]])"
      ]
     },
     "execution_count": 36,
     "metadata": {},
     "output_type": "execute_result"
    }
   ],
   "source": [
    "# Creating a confusion matrix\n",
    "y_pred = rfc.predict(X_test_scaled)\n",
    "confusion_matrix = metrics.confusion_matrix(y_test, pt)\n",
    "confusion_matrix"
   ],
   "metadata": {
    "collapsed": false,
    "pycharm": {
     "name": "#%%\n"
    }
   }
  },
  {
   "cell_type": "code",
   "execution_count": 30,
   "outputs": [
    {
     "data": {
      "text/plain": [
       "Text(0.5, 257.44, 'Predicted label')"
      ]
     },
     "execution_count": 30,
     "metadata": {},
     "output_type": "execute_result"
    },
    {
     "data": {
      "image/png": "[encoded data removed]",
      "text/plain": [
       "<Figure size 432x288 with 2 Axes>"
      ]
     },
     "metadata": {
      "needs_background": "light"
     },
     "output_type": "display_data"
    }
   ],
   "source": [
    "# Creating confusion matrix diagram\n",
    "class_names=[0,1]\n",
    "fig, ax = plt.subplots()\n",
    "tick_marks = np.arange(len(class_names))\n",
    "plt.xticks(tick_marks, class_names)\n",
    "plt.yticks(tick_marks, class_names)\n",
    "\n",
    "# Create a heatmap\n",
    "sns.heatmap(pd.DataFrame(confusion_matrix), annot=True, cmap=\"YlGnBu\" ,fmt='g')\n",
    "ax.xaxis.set_label_position(\"top\")\n",
    "plt.tight_layout()\n",
    "plt.title('Confusion matrix', y=1.1)\n",
    "plt.ylabel('Actual label')\n",
    "plt.xlabel('Predicted label')"
   ],
   "metadata": {
    "collapsed": false,
    "pycharm": {
     "name": "#%%\n"
    }
   }
  },
  {
   "cell_type": "code",
   "execution_count": 31,
   "outputs": [
    {
     "name": "stdout",
     "output_type": "stream",
     "text": [
      "              precision    recall  f1-score   support\n",
      "\n",
      "   churn: no       0.91      0.89      0.90      1013\n",
      "  churn: yes       0.57      0.62      0.59       237\n",
      "\n",
      "    accuracy                           0.84      1250\n",
      "   macro avg       0.74      0.75      0.75      1250\n",
      "weighted avg       0.85      0.84      0.84      1250\n",
      "\n"
     ]
    }
   ],
   "source": [
    "# Create the classification report\n",
    "target_names = ['churn: no', 'churn: yes']\n",
    "print(classification_report(y_test, pt, target_names=target_names))"
   ],
   "metadata": {
    "collapsed": false,
    "pycharm": {
     "name": "#%%\n"
    }
   }
  },
  {
   "cell_type": "code",
   "execution_count": 32,
   "outputs": [
    {
     "data": {
      "image/png": "[encoded data removed]",
      "text/plain": [
       "<Figure size 432x288 with 1 Axes>"
      ]
     },
     "metadata": {
      "needs_background": "light"
     },
     "output_type": "display_data"
    }
   ],
   "source": [
    "# Create area under the curve graph\n",
    "y_pred_proba = rfc.predict_proba(X_test_scaled)[::,1]\n",
    "fpr, tpr, _ = metrics.roc_curve(y_test,  y_pred_proba)\n",
    "auc = metrics.roc_auc_score(y_test, y_pred_proba)\n",
    "plt.plot(fpr, tpr,label='data 1, auc=' + str(auc))\n",
    "plt.legend(loc=4)\n",
    "plt.show()"
   ],
   "metadata": {
    "collapsed": false,
    "pycharm": {
     "name": "#%%\n"
    }
   }
  },
  {
   "cell_type": "code",
   "execution_count": null,
   "outputs": [],
   "source": [],
   "metadata": {
    "collapsed": false,
    "pycharm": {
     "name": "#%%\n"
    }
   }
  }
 ],
 "metadata": {
  "kernelspec": {
   "display_name": "Python 3",
   "language": "python",
   "name": "python3"
  },
  "language_info": {
   "codemirror_mode": {
    "name": "ipython",
    "version": 2
   },
   "file_extension": ".py",
   "mimetype": "text/x-python",
   "name": "python",
   "nbconvert_exporter": "python",
   "pygments_lexer": "ipython2",
   "version": "2.7.6"
  }
 },
 "nbformat": 4,
 "nbformat_minor": 0
}